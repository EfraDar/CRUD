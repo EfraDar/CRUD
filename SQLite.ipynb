{
 "metadata": {
  "language_info": {
   "codemirror_mode": {
    "name": "ipython",
    "version": 3
   },
   "file_extension": ".py",
   "mimetype": "text/x-python",
   "name": "python",
   "nbconvert_exporter": "python",
   "pygments_lexer": "ipython3",
   "version": "3.9.1"
  },
  "orig_nbformat": 2,
  "kernelspec": {
   "name": "python391jvsc74a57bd00b660ded8ff8447da09d07df3afd24bbf4f0ee8665280624e7cc86e626af81de",
   "display_name": "Python 3.9.1 64-bit"
  }
 },
 "nbformat": 4,
 "nbformat_minor": 2,
 "cells": [
  {
   "cell_type": "code",
   "execution_count": 1,
   "metadata": {},
   "outputs": [],
   "source": [
    "import sqlite3"
   ]
  },
  {
   "cell_type": "code",
   "execution_count": 2,
   "metadata": {},
   "outputs": [],
   "source": [
    "conexion=sqlite3.connect(\"bd1.db\")"
   ]
  },
  {
   "cell_type": "code",
   "execution_count": 6,
   "metadata": {},
   "outputs": [
    {
     "output_type": "stream",
     "name": "stdout",
     "text": [
      "La tabla articulos ya existe\n"
     ]
    }
   ],
   "source": [
    "conexion=sqlite3.connect(\"bd1.db\")\n",
    "try:\n",
    "    conexion.execute(\"\"\"create table articulos (\n",
    "                              codigo integer primary key autoincrement,\n",
    "                              descripcion text,\n",
    "                              precio real\n",
    "                        )\"\"\")\n",
    "    print(\"se creo la tabla articulos\")                        \n",
    "except sqlite3.OperationalError:\n",
    "    print(\"La tabla articulos ya existe\")                    \n",
    "conexion.close()"
   ]
  },
  {
   "cell_type": "code",
   "execution_count": 7,
   "metadata": {},
   "outputs": [],
   "source": [
    "conexion=sqlite3.connect(\"bd1.db\")\n",
    "conexion.execute(\"insert into articulos(descripcion,precio) values (?,?)\", (\"naranjas\", 23.50))\n",
    "conexion.execute(\"insert into articulos(descripcion,precio) values (?,?)\", (\"peras\", 34))\n",
    "conexion.execute(\"insert into articulos(descripcion,precio) values (?,?)\", (\"bananas\", 25))\n",
    "conexion.commit()\n",
    "conexion.close()"
   ]
  },
  {
   "cell_type": "code",
   "execution_count": 8,
   "metadata": {},
   "outputs": [
    {
     "output_type": "stream",
     "name": "stdout",
     "text": [
      "(1, 'naranjas', 23.5)\n(2, 'peras', 34.0)\n(3, 'bananas', 25.0)\n"
     ]
    }
   ],
   "source": [
    "conexion=sqlite3.connect(\"bd1.db\")\n",
    "cursor=conexion.execute(\"select codigo,descripcion,precio from articulos\")\n",
    "for fila in cursor:\n",
    "    print(fila)\n",
    "conexion.close()"
   ]
  }
 ]
}